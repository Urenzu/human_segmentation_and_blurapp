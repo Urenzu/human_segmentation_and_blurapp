{
 "cells": [
  {
   "cell_type": "code",
   "execution_count": 7,
   "metadata": {},
   "outputs": [],
   "source": [
    "import os\n",
    "import gradio as gr\n",
    "from PIL import Image\n",
    "import numpy as np\n",
    "import cv2\n",
    "from tensorflow.keras.models import load_model"
   ]
  },
  {
   "cell_type": "code",
   "execution_count": 8,
   "metadata": {},
   "outputs": [],
   "source": [
    "model = load_model('custom_unet.h5')"
   ]
  },
  {
   "cell_type": "code",
   "execution_count": 38,
   "metadata": {},
   "outputs": [],
   "source": [
    "\"\"\"\n",
    "Blur around human:\n",
    "The function preprocesses the image in the correct dimensions that the neural network is compatible with. The model predicts the mask and then resizes the mask for the original image resolution.\n",
    "It inverts the mask capturing the surroundings of the human. Uses OpenCV to apply a blurred effect on the inverted mask area then replicate the mask across three channels to make it compatible with rgb.\n",
    "\n",
    "\"\"\"\n",
    "def predict_segmentation(input_image):\n",
    "    image_np = np.array(input_image)\n",
    "    image_resized = cv2.resize(image_np, (256, 256)) / 255.0\n",
    "    image_expanded = np.expand_dims(image_resized, axis=0)\n",
    "\n",
    "    predicted_mask = model.predict(image_expanded)[0]\n",
    "    predicted_mask = (predicted_mask > 0.5).astype(np.uint8)\n",
    "\n",
    "    mask_resized = cv2.resize(predicted_mask, (input_image.size[0], input_image.size[1]))\n",
    "    inverted_mask = 1 - mask_resized\n",
    "\n",
    "    blurred_background = cv2.GaussianBlur(image_np, (51, 51), 0)\n",
    "\n",
    "    inverted_mask_3ch = np.stack((inverted_mask,)*3, axis=-1)\n",
    "\n",
    "    segmented_image = np.where(inverted_mask_3ch == 1, blurred_background, image_np)\n",
    "\n",
    "    segmented_pil = Image.fromarray(segmented_image.astype('uint8'), 'RGB')\n",
    "    return segmented_pil"
   ]
  },
  {
   "cell_type": "code",
   "execution_count": 39,
   "metadata": {},
   "outputs": [
    {
     "name": "stdout",
     "output_type": "stream",
     "text": [
      "Running on local URL:  http://127.0.0.1:7873\n",
      "\n",
      "To create a public link, set `share=True` in `launch()`.\n"
     ]
    },
    {
     "data": {
      "text/html": [
       "<div><iframe src=\"http://127.0.0.1:7873/\" width=\"100%\" height=\"500\" allow=\"autoplay; camera; microphone; clipboard-read; clipboard-write;\" frameborder=\"0\" allowfullscreen></iframe></div>"
      ],
      "text/plain": [
       "<IPython.core.display.HTML object>"
      ]
     },
     "metadata": {},
     "output_type": "display_data"
    },
    {
     "name": "stderr",
     "output_type": "stream",
     "text": [
      "ERROR:    Exception in ASGI application\n",
      "Traceback (most recent call last):\n",
      "  File \"c:\\Users\\levir\\anaconda3\\envs\\tensorflow\\lib\\site-packages\\uvicorn\\protocols\\http\\h11_impl.py\", line 408, in run_asgi\n",
      "    result = await app(  # type: ignore[func-returns-value]\n",
      "  File \"c:\\Users\\levir\\anaconda3\\envs\\tensorflow\\lib\\site-packages\\uvicorn\\middleware\\proxy_headers.py\", line 84, in __call__\n",
      "    return await self.app(scope, receive, send)\n",
      "  File \"c:\\Users\\levir\\anaconda3\\envs\\tensorflow\\lib\\site-packages\\fastapi\\applications.py\", line 1106, in __call__\n",
      "    await super().__call__(scope, receive, send)\n",
      "  File \"c:\\Users\\levir\\anaconda3\\envs\\tensorflow\\lib\\site-packages\\starlette\\applications.py\", line 122, in __call__\n",
      "    await self.middleware_stack(scope, receive, send)\n",
      "  File \"c:\\Users\\levir\\anaconda3\\envs\\tensorflow\\lib\\site-packages\\starlette\\middleware\\errors.py\", line 184, in __call__\n",
      "    raise exc\n",
      "  File \"c:\\Users\\levir\\anaconda3\\envs\\tensorflow\\lib\\site-packages\\starlette\\middleware\\errors.py\", line 162, in __call__\n",
      "    await self.app(scope, receive, _send)\n",
      "  File \"c:\\Users\\levir\\anaconda3\\envs\\tensorflow\\lib\\site-packages\\starlette\\middleware\\cors.py\", line 83, in __call__\n",
      "    await self.app(scope, receive, send)\n",
      "  File \"c:\\Users\\levir\\anaconda3\\envs\\tensorflow\\lib\\site-packages\\starlette\\middleware\\exceptions.py\", line 79, in __call__\n",
      "    raise exc\n",
      "  File \"c:\\Users\\levir\\anaconda3\\envs\\tensorflow\\lib\\site-packages\\starlette\\middleware\\exceptions.py\", line 68, in __call__\n",
      "    await self.app(scope, receive, sender)\n",
      "  File \"c:\\Users\\levir\\anaconda3\\envs\\tensorflow\\lib\\site-packages\\fastapi\\middleware\\asyncexitstack.py\", line 20, in __call__\n",
      "    raise e\n",
      "  File \"c:\\Users\\levir\\anaconda3\\envs\\tensorflow\\lib\\site-packages\\fastapi\\middleware\\asyncexitstack.py\", line 17, in __call__\n",
      "    await self.app(scope, receive, send)\n",
      "  File \"c:\\Users\\levir\\anaconda3\\envs\\tensorflow\\lib\\site-packages\\starlette\\routing.py\", line 718, in __call__\n",
      "    await route.handle(scope, receive, send)\n",
      "  File \"c:\\Users\\levir\\anaconda3\\envs\\tensorflow\\lib\\site-packages\\starlette\\routing.py\", line 276, in handle\n",
      "    await self.app(scope, receive, send)\n",
      "  File \"c:\\Users\\levir\\anaconda3\\envs\\tensorflow\\lib\\site-packages\\starlette\\routing.py\", line 69, in app\n",
      "    await response(scope, receive, send)\n",
      "  File \"c:\\Users\\levir\\anaconda3\\envs\\tensorflow\\lib\\site-packages\\starlette\\responses.py\", line 358, in __call__\n",
      "    await send(\n",
      "  File \"c:\\Users\\levir\\anaconda3\\envs\\tensorflow\\lib\\site-packages\\starlette\\middleware\\exceptions.py\", line 65, in sender\n",
      "    await send(message)\n",
      "  File \"c:\\Users\\levir\\anaconda3\\envs\\tensorflow\\lib\\site-packages\\starlette\\middleware\\errors.py\", line 159, in _send\n",
      "    await send(message)\n",
      "  File \"c:\\Users\\levir\\anaconda3\\envs\\tensorflow\\lib\\site-packages\\uvicorn\\protocols\\http\\h11_impl.py\", line 505, in send\n",
      "    output = self.conn.send(event=h11.Data(data=data))\n",
      "  File \"c:\\Users\\levir\\anaconda3\\envs\\tensorflow\\lib\\site-packages\\h11\\_connection.py\", line 512, in send\n",
      "    data_list = self.send_with_data_passthrough(event)\n",
      "  File \"c:\\Users\\levir\\anaconda3\\envs\\tensorflow\\lib\\site-packages\\h11\\_connection.py\", line 545, in send_with_data_passthrough\n",
      "    writer(event, data_list.append)\n",
      "  File \"c:\\Users\\levir\\anaconda3\\envs\\tensorflow\\lib\\site-packages\\h11\\_writers.py\", line 65, in __call__\n",
      "    self.send_data(event.data, write)\n",
      "  File \"c:\\Users\\levir\\anaconda3\\envs\\tensorflow\\lib\\site-packages\\h11\\_writers.py\", line 91, in send_data\n",
      "    raise LocalProtocolError(\"Too much data for declared Content-Length\")\n",
      "h11._util.LocalProtocolError: Too much data for declared Content-Length\n"
     ]
    },
    {
     "name": "stdout",
     "output_type": "stream",
     "text": [
      "1/1 [==============================] - 0s 140ms/step\n",
      "1/1 [==============================] - 0s 112ms/step\n",
      "1/1 [==============================] - 0s 114ms/step\n"
     ]
    },
    {
     "name": "stderr",
     "output_type": "stream",
     "text": [
      "ERROR:    Exception in ASGI application\n",
      "Traceback (most recent call last):\n",
      "  File \"c:\\Users\\levir\\anaconda3\\envs\\tensorflow\\lib\\site-packages\\uvicorn\\protocols\\http\\h11_impl.py\", line 408, in run_asgi\n",
      "    result = await app(  # type: ignore[func-returns-value]\n",
      "  File \"c:\\Users\\levir\\anaconda3\\envs\\tensorflow\\lib\\site-packages\\uvicorn\\middleware\\proxy_headers.py\", line 84, in __call__\n",
      "    return await self.app(scope, receive, send)\n",
      "  File \"c:\\Users\\levir\\anaconda3\\envs\\tensorflow\\lib\\site-packages\\fastapi\\applications.py\", line 1106, in __call__\n",
      "    await super().__call__(scope, receive, send)\n",
      "  File \"c:\\Users\\levir\\anaconda3\\envs\\tensorflow\\lib\\site-packages\\starlette\\applications.py\", line 122, in __call__\n",
      "    await self.middleware_stack(scope, receive, send)\n",
      "  File \"c:\\Users\\levir\\anaconda3\\envs\\tensorflow\\lib\\site-packages\\starlette\\middleware\\errors.py\", line 184, in __call__\n",
      "    raise exc\n",
      "  File \"c:\\Users\\levir\\anaconda3\\envs\\tensorflow\\lib\\site-packages\\starlette\\middleware\\errors.py\", line 162, in __call__\n",
      "    await self.app(scope, receive, _send)\n",
      "  File \"c:\\Users\\levir\\anaconda3\\envs\\tensorflow\\lib\\site-packages\\starlette\\middleware\\cors.py\", line 83, in __call__\n",
      "    await self.app(scope, receive, send)\n",
      "  File \"c:\\Users\\levir\\anaconda3\\envs\\tensorflow\\lib\\site-packages\\starlette\\middleware\\exceptions.py\", line 79, in __call__\n",
      "    raise exc\n",
      "  File \"c:\\Users\\levir\\anaconda3\\envs\\tensorflow\\lib\\site-packages\\starlette\\middleware\\exceptions.py\", line 68, in __call__\n",
      "    await self.app(scope, receive, sender)\n",
      "  File \"c:\\Users\\levir\\anaconda3\\envs\\tensorflow\\lib\\site-packages\\fastapi\\middleware\\asyncexitstack.py\", line 20, in __call__\n",
      "    raise e\n",
      "  File \"c:\\Users\\levir\\anaconda3\\envs\\tensorflow\\lib\\site-packages\\fastapi\\middleware\\asyncexitstack.py\", line 17, in __call__\n",
      "    await self.app(scope, receive, send)\n",
      "  File \"c:\\Users\\levir\\anaconda3\\envs\\tensorflow\\lib\\site-packages\\starlette\\routing.py\", line 718, in __call__\n",
      "    await route.handle(scope, receive, send)\n",
      "  File \"c:\\Users\\levir\\anaconda3\\envs\\tensorflow\\lib\\site-packages\\starlette\\routing.py\", line 276, in handle\n",
      "    await self.app(scope, receive, send)\n",
      "  File \"c:\\Users\\levir\\anaconda3\\envs\\tensorflow\\lib\\site-packages\\starlette\\routing.py\", line 69, in app\n",
      "    await response(scope, receive, send)\n",
      "  File \"c:\\Users\\levir\\anaconda3\\envs\\tensorflow\\lib\\site-packages\\starlette\\responses.py\", line 358, in __call__\n",
      "    await send(\n",
      "  File \"c:\\Users\\levir\\anaconda3\\envs\\tensorflow\\lib\\site-packages\\starlette\\middleware\\exceptions.py\", line 65, in sender\n",
      "    await send(message)\n",
      "  File \"c:\\Users\\levir\\anaconda3\\envs\\tensorflow\\lib\\site-packages\\starlette\\middleware\\errors.py\", line 159, in _send\n",
      "    await send(message)\n",
      "  File \"c:\\Users\\levir\\anaconda3\\envs\\tensorflow\\lib\\site-packages\\uvicorn\\protocols\\http\\h11_impl.py\", line 512, in send\n",
      "    output = self.conn.send(event=h11.EndOfMessage())\n",
      "  File \"c:\\Users\\levir\\anaconda3\\envs\\tensorflow\\lib\\site-packages\\h11\\_connection.py\", line 512, in send\n",
      "    data_list = self.send_with_data_passthrough(event)\n",
      "  File \"c:\\Users\\levir\\anaconda3\\envs\\tensorflow\\lib\\site-packages\\h11\\_connection.py\", line 545, in send_with_data_passthrough\n",
      "    writer(event, data_list.append)\n",
      "  File \"c:\\Users\\levir\\anaconda3\\envs\\tensorflow\\lib\\site-packages\\h11\\_writers.py\", line 67, in __call__\n",
      "    self.send_eom(event.headers, write)\n",
      "  File \"c:\\Users\\levir\\anaconda3\\envs\\tensorflow\\lib\\site-packages\\h11\\_writers.py\", line 96, in send_eom\n",
      "    raise LocalProtocolError(\"Too little data for declared Content-Length\")\n",
      "h11._util.LocalProtocolError: Too little data for declared Content-Length\n"
     ]
    },
    {
     "name": "stdout",
     "output_type": "stream",
     "text": [
      "1/1 [==============================] - 0s 125ms/step\n",
      "1/1 [==============================] - 0s 126ms/step\n"
     ]
    },
    {
     "name": "stderr",
     "output_type": "stream",
     "text": [
      "ERROR:    Exception in ASGI application\n",
      "Traceback (most recent call last):\n",
      "  File \"c:\\Users\\levir\\anaconda3\\envs\\tensorflow\\lib\\site-packages\\uvicorn\\protocols\\http\\h11_impl.py\", line 408, in run_asgi\n",
      "    result = await app(  # type: ignore[func-returns-value]\n",
      "  File \"c:\\Users\\levir\\anaconda3\\envs\\tensorflow\\lib\\site-packages\\uvicorn\\middleware\\proxy_headers.py\", line 84, in __call__\n",
      "    return await self.app(scope, receive, send)\n",
      "  File \"c:\\Users\\levir\\anaconda3\\envs\\tensorflow\\lib\\site-packages\\fastapi\\applications.py\", line 1106, in __call__\n",
      "    await super().__call__(scope, receive, send)\n",
      "  File \"c:\\Users\\levir\\anaconda3\\envs\\tensorflow\\lib\\site-packages\\starlette\\applications.py\", line 122, in __call__\n",
      "    await self.middleware_stack(scope, receive, send)\n",
      "  File \"c:\\Users\\levir\\anaconda3\\envs\\tensorflow\\lib\\site-packages\\starlette\\middleware\\errors.py\", line 184, in __call__\n",
      "    raise exc\n",
      "  File \"c:\\Users\\levir\\anaconda3\\envs\\tensorflow\\lib\\site-packages\\starlette\\middleware\\errors.py\", line 162, in __call__\n",
      "    await self.app(scope, receive, _send)\n",
      "  File \"c:\\Users\\levir\\anaconda3\\envs\\tensorflow\\lib\\site-packages\\starlette\\middleware\\cors.py\", line 83, in __call__\n",
      "    await self.app(scope, receive, send)\n",
      "  File \"c:\\Users\\levir\\anaconda3\\envs\\tensorflow\\lib\\site-packages\\starlette\\middleware\\exceptions.py\", line 79, in __call__\n",
      "    raise exc\n",
      "  File \"c:\\Users\\levir\\anaconda3\\envs\\tensorflow\\lib\\site-packages\\starlette\\middleware\\exceptions.py\", line 68, in __call__\n",
      "    await self.app(scope, receive, sender)\n",
      "  File \"c:\\Users\\levir\\anaconda3\\envs\\tensorflow\\lib\\site-packages\\fastapi\\middleware\\asyncexitstack.py\", line 20, in __call__\n",
      "    raise e\n",
      "  File \"c:\\Users\\levir\\anaconda3\\envs\\tensorflow\\lib\\site-packages\\fastapi\\middleware\\asyncexitstack.py\", line 17, in __call__\n",
      "    await self.app(scope, receive, send)\n",
      "  File \"c:\\Users\\levir\\anaconda3\\envs\\tensorflow\\lib\\site-packages\\starlette\\routing.py\", line 718, in __call__\n",
      "    await route.handle(scope, receive, send)\n",
      "  File \"c:\\Users\\levir\\anaconda3\\envs\\tensorflow\\lib\\site-packages\\starlette\\routing.py\", line 276, in handle\n",
      "    await self.app(scope, receive, send)\n",
      "  File \"c:\\Users\\levir\\anaconda3\\envs\\tensorflow\\lib\\site-packages\\starlette\\routing.py\", line 69, in app\n",
      "    await response(scope, receive, send)\n",
      "  File \"c:\\Users\\levir\\anaconda3\\envs\\tensorflow\\lib\\site-packages\\starlette\\responses.py\", line 358, in __call__\n",
      "    await send(\n",
      "  File \"c:\\Users\\levir\\anaconda3\\envs\\tensorflow\\lib\\site-packages\\starlette\\middleware\\exceptions.py\", line 65, in sender\n",
      "    await send(message)\n",
      "  File \"c:\\Users\\levir\\anaconda3\\envs\\tensorflow\\lib\\site-packages\\starlette\\middleware\\errors.py\", line 159, in _send\n",
      "    await send(message)\n",
      "  File \"c:\\Users\\levir\\anaconda3\\envs\\tensorflow\\lib\\site-packages\\uvicorn\\protocols\\http\\h11_impl.py\", line 512, in send\n",
      "    output = self.conn.send(event=h11.EndOfMessage())\n",
      "  File \"c:\\Users\\levir\\anaconda3\\envs\\tensorflow\\lib\\site-packages\\h11\\_connection.py\", line 512, in send\n",
      "    data_list = self.send_with_data_passthrough(event)\n",
      "  File \"c:\\Users\\levir\\anaconda3\\envs\\tensorflow\\lib\\site-packages\\h11\\_connection.py\", line 545, in send_with_data_passthrough\n",
      "    writer(event, data_list.append)\n",
      "  File \"c:\\Users\\levir\\anaconda3\\envs\\tensorflow\\lib\\site-packages\\h11\\_writers.py\", line 67, in __call__\n",
      "    self.send_eom(event.headers, write)\n",
      "  File \"c:\\Users\\levir\\anaconda3\\envs\\tensorflow\\lib\\site-packages\\h11\\_writers.py\", line 96, in send_eom\n",
      "    raise LocalProtocolError(\"Too little data for declared Content-Length\")\n",
      "h11._util.LocalProtocolError: Too little data for declared Content-Length\n"
     ]
    },
    {
     "name": "stdout",
     "output_type": "stream",
     "text": [
      "1/1 [==============================] - 0s 112ms/step\n"
     ]
    },
    {
     "name": "stderr",
     "output_type": "stream",
     "text": [
      "ERROR:    Exception in ASGI application\n",
      "Traceback (most recent call last):\n",
      "  File \"c:\\Users\\levir\\anaconda3\\envs\\tensorflow\\lib\\site-packages\\uvicorn\\protocols\\http\\h11_impl.py\", line 408, in run_asgi\n",
      "    result = await app(  # type: ignore[func-returns-value]\n",
      "  File \"c:\\Users\\levir\\anaconda3\\envs\\tensorflow\\lib\\site-packages\\uvicorn\\middleware\\proxy_headers.py\", line 84, in __call__\n",
      "    return await self.app(scope, receive, send)\n",
      "  File \"c:\\Users\\levir\\anaconda3\\envs\\tensorflow\\lib\\site-packages\\fastapi\\applications.py\", line 1106, in __call__\n",
      "    await super().__call__(scope, receive, send)\n",
      "  File \"c:\\Users\\levir\\anaconda3\\envs\\tensorflow\\lib\\site-packages\\starlette\\applications.py\", line 122, in __call__\n",
      "    await self.middleware_stack(scope, receive, send)\n",
      "  File \"c:\\Users\\levir\\anaconda3\\envs\\tensorflow\\lib\\site-packages\\starlette\\middleware\\errors.py\", line 184, in __call__\n",
      "    raise exc\n",
      "  File \"c:\\Users\\levir\\anaconda3\\envs\\tensorflow\\lib\\site-packages\\starlette\\middleware\\errors.py\", line 162, in __call__\n",
      "    await self.app(scope, receive, _send)\n",
      "  File \"c:\\Users\\levir\\anaconda3\\envs\\tensorflow\\lib\\site-packages\\starlette\\middleware\\cors.py\", line 83, in __call__\n",
      "    await self.app(scope, receive, send)\n",
      "  File \"c:\\Users\\levir\\anaconda3\\envs\\tensorflow\\lib\\site-packages\\starlette\\middleware\\exceptions.py\", line 79, in __call__\n",
      "    raise exc\n",
      "  File \"c:\\Users\\levir\\anaconda3\\envs\\tensorflow\\lib\\site-packages\\starlette\\middleware\\exceptions.py\", line 68, in __call__\n",
      "    await self.app(scope, receive, sender)\n",
      "  File \"c:\\Users\\levir\\anaconda3\\envs\\tensorflow\\lib\\site-packages\\fastapi\\middleware\\asyncexitstack.py\", line 20, in __call__\n",
      "    raise e\n",
      "  File \"c:\\Users\\levir\\anaconda3\\envs\\tensorflow\\lib\\site-packages\\fastapi\\middleware\\asyncexitstack.py\", line 17, in __call__\n",
      "    await self.app(scope, receive, send)\n",
      "  File \"c:\\Users\\levir\\anaconda3\\envs\\tensorflow\\lib\\site-packages\\starlette\\routing.py\", line 718, in __call__\n",
      "    await route.handle(scope, receive, send)\n",
      "  File \"c:\\Users\\levir\\anaconda3\\envs\\tensorflow\\lib\\site-packages\\starlette\\routing.py\", line 276, in handle\n",
      "    await self.app(scope, receive, send)\n",
      "  File \"c:\\Users\\levir\\anaconda3\\envs\\tensorflow\\lib\\site-packages\\starlette\\routing.py\", line 69, in app\n",
      "    await response(scope, receive, send)\n",
      "  File \"c:\\Users\\levir\\anaconda3\\envs\\tensorflow\\lib\\site-packages\\starlette\\responses.py\", line 358, in __call__\n",
      "    await send(\n",
      "  File \"c:\\Users\\levir\\anaconda3\\envs\\tensorflow\\lib\\site-packages\\starlette\\middleware\\exceptions.py\", line 65, in sender\n",
      "    await send(message)\n",
      "  File \"c:\\Users\\levir\\anaconda3\\envs\\tensorflow\\lib\\site-packages\\starlette\\middleware\\errors.py\", line 159, in _send\n",
      "    await send(message)\n",
      "  File \"c:\\Users\\levir\\anaconda3\\envs\\tensorflow\\lib\\site-packages\\uvicorn\\protocols\\http\\h11_impl.py\", line 512, in send\n",
      "    output = self.conn.send(event=h11.EndOfMessage())\n",
      "  File \"c:\\Users\\levir\\anaconda3\\envs\\tensorflow\\lib\\site-packages\\h11\\_connection.py\", line 512, in send\n",
      "    data_list = self.send_with_data_passthrough(event)\n",
      "  File \"c:\\Users\\levir\\anaconda3\\envs\\tensorflow\\lib\\site-packages\\h11\\_connection.py\", line 545, in send_with_data_passthrough\n",
      "    writer(event, data_list.append)\n",
      "  File \"c:\\Users\\levir\\anaconda3\\envs\\tensorflow\\lib\\site-packages\\h11\\_writers.py\", line 67, in __call__\n",
      "    self.send_eom(event.headers, write)\n",
      "  File \"c:\\Users\\levir\\anaconda3\\envs\\tensorflow\\lib\\site-packages\\h11\\_writers.py\", line 96, in send_eom\n",
      "    raise LocalProtocolError(\"Too little data for declared Content-Length\")\n",
      "h11._util.LocalProtocolError: Too little data for declared Content-Length\n"
     ]
    },
    {
     "name": "stdout",
     "output_type": "stream",
     "text": [
      "1/1 [==============================] - 0s 140ms/step\n"
     ]
    }
   ],
   "source": [
    "# Minimal gradio code for bringing model to a webapp.\n",
    "demo = gr.Interface(\n",
    "    predict_segmentation,\n",
    "    gr.Image(type=\"pil\"),\n",
    "    \"image\",\n",
    ")\n",
    "\n",
    "if __name__ == \"__main__\":\n",
    "    demo.launch()"
   ]
  },
  {
   "cell_type": "code",
   "execution_count": null,
   "metadata": {},
   "outputs": [],
   "source": []
  }
 ],
 "metadata": {
  "kernelspec": {
   "display_name": "tensorflow",
   "language": "python",
   "name": "python3"
  },
  "language_info": {
   "codemirror_mode": {
    "name": "ipython",
    "version": 3
   },
   "file_extension": ".py",
   "mimetype": "text/x-python",
   "name": "python",
   "nbconvert_exporter": "python",
   "pygments_lexer": "ipython3",
   "version": "3.9.18"
  }
 },
 "nbformat": 4,
 "nbformat_minor": 2
}
